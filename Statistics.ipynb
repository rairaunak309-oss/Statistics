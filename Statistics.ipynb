{
  "nbformat": 4,
  "nbformat_minor": 0,
  "metadata": {
    "colab": {
      "provenance": []
    },
    "kernelspec": {
      "name": "python3",
      "display_name": "Python 3"
    },
    "language_info": {
      "name": "python"
    }
  },
  "cells": [
    {
      "cell_type": "code",
      "execution_count": null,
      "metadata": {
        "id": "iDWo41HEnXM5"
      },
      "outputs": [],
      "source": []
    },
    {
      "cell_type": "markdown",
      "source": [
        "#Q1. What is the difference between descriptive statistics and inferential statistics? Explain with examples?\n",
        "Ans1. Descriptive statistics are methods for summarizing and organizing data so it can be easily understood.\n",
        "Example: A teacher records test score of her class of 30 students.\n",
        "Average score = 75\n",
        "Highest score = 95\n",
        "Lowest score = 50\n",
        "Standard deviation = 10\n",
        "These numbers describe the actual performance of that specific class only.\n",
        "\n",
        "Inferential statistics use a sample of data to make predictions, conclusions, or generalization about a larger population.\n",
        "Example: A researcher surveys 200 voters to predict the outcome of a national election.\n",
        "60% of the sample favors Candidate A.\n",
        "Using inferential statistics, they estimate that around 60% +- 3% of the entire population will favore Candidate A.\n",
        "Here the researcher is using a sample to make a conclusion about a whole population.\n",
        "\n",
        "\n",
        "\n",
        "#Q2. What is sampling in statistics? Explain the difference between random and stratified sampling?\n",
        "Ans2. Sampling is the process of selecting a subset of individuals (sample) from a larger group (population) to study and make conclusions about the population.\n",
        "In Random sampling every individual has an equal chance of being selected. It is used when the population is fairly homogeneous. It is simple, unbaised and easy to perform. Example, choosing 100 students randomly from a university list.\n",
        "In Stratified sampling population is divided into subgroups based on characterestics, then samples are taken from each stratum. It is used when population is heterogenous. It is more accurate but more complex and requires prior knowledge of population characterestics. Example, dividing students according to their streams like sceince, commerce, arts, etc.\n",
        "\n",
        "\n",
        "\n",
        "#Q3. Define mean, median and mode? Explain why these measures of central tendency are important?\n",
        "Ans3. Mean is the sum of all data values divided by the number of values.\n",
        "Median is the middle value when the data is arranged in ascending or descending order.\n",
        "Mode is the value that occurs most frequently in the dataset.\n",
        "These measures of central tendency are important as they provide a quick snapshot of the datasetwith just one number.\n",
        "\n",
        "\n",
        "\n",
        "#Q4. Explain skewness and kurtosis? What does a positive skew imply about the data?\n",
        "Ans4. Skewness measures the asymmetry in a data distribution. In positive skew tail is longer on the right side. Most data values are low but a few very high values pull the mean upward.\n",
        "Kurtosis measures the tailedness or peakedness of a distribution.\n",
        "A positively skewed distribution means the tail extends to the higher right side, the mean > median > mode. Most observations are clustered on the left, with some extreme large values on the right. Real life examples include income, house prices, hospital stay lengths.\n",
        "\n"
      ],
      "metadata": {
        "id": "INEDb-FRnanV"
      }
    },
    {
      "cell_type": "code",
      "source": [
        "#Q5. Implement a python programme to compute mean, median and mode of a given list of numbers. numbers = [12, 15, 12, 18, 19, 12, 20, 22, 19, 19, 24, 24, 24, 26, 28]?\n",
        "#Ans5.\n",
        "mean_value = stats.mean(data)\n",
        "median_value = stats.median(data)\n",
        "mode_value = stats.mode(data)\n",
        "print(\"Data:\", data)\n",
        "print(\"Mean:\", mean_value)\n",
        "print(\"Median:\", median_value)\n",
        "print(\"Mode:\", mode_value)\n",
        "\n",
        "\n",
        "\n",
        "#Q6. Compute covariance and correlation coefficient between the following 2 datasets provided as lists in Python:\n",
        "list_x = [10, 20, 30, 40, 50]\n",
        "list_y = [15, 25, 35, 45, 60]\n",
        "#Ans6.\n",
        "x = np.array(list_x)\n",
        "y = np.array(list_y)\n",
        "cov_matrix = np.cov(x, y, bias = False)\n",
        "cov_xy = cov_matrix[0, 1]\n",
        "corr_xy = np.corrcoef(x, y)[0, 1]\n",
        "print(\"Covariance Matrix:\\n\", cov_matrix)\n",
        "print(\"Covariance between x and y:\", cov_xy)\n",
        "print(\"Correlation coefficient between x and y:\", corr_xy)\n",
        "\n",
        "\n",
        "\n",
        "#Q7. Write a python scrpit to draw a boxplot for the following numeric list and identify its outliers. Explain the result:\n",
        "data = [12, 14, 14, 15, 18, 19, 19, 21, 22, 22, 23, 23, 24, 26, 29, 35]\n",
        "#Ans7.\n",
        "plt.boxplot(data, vert=False, patch_artist=True)\n",
        "plt.tiltle(\"Box plot of given data\")\n",
        "plt.xlabel(\"Values\")\n",
        "plt.show()\n",
        "Q1 = np.percentile(data, 25)\n",
        "Q2 = np.percentile(data, 75)\n",
        "IQR = Q3 - Q1\n",
        "lower_bound = Q1 - 1.5 * IQR\n",
        "upper_bound = Q3 + 1.5 * IQR\n",
        "outliers = [x for x in data if x < lower_bound or x > upper_bound]\n",
        "print(\"Q1 (25th percentile):\", Q1)\n",
        "print(\"Q3 (75th percentile):\", Q3)\n",
        "print(\"IQR:\", IQR)\n",
        "print(\"Lower Bound:\", lower_bound)\n",
        "print(\"Upper Bound:\", upper_bound)\n",
        "print(\"Outliers:\", outliers)\n",
        "\n",
        "\n",
        "\n",
        "#Q8. You are working as a data analyst in an e-commmerce company. The marketing team wants to know if there is a relationship between advertising spend and daily sales.\n",
        "#Explain how would you use covariance and correlation to explore this relationship.\n",
        "#Write python code to compute the correlation between the two lists:\n",
        "#advertising_spend = [200, 250, 300, 400, 500]\n",
        "#daily_sales = [2200, 2450, 2750, 3200, 4000]\n",
        "#Ans8.\n",
        "#As a data analyst I would check first the covariance to see the trend. Then calculate correlation to measure how strong the relationship is. If correlatin close to +1, marketing can confidently say \"higer ad spend leads to higher sales\".\n",
        "x = np.array(advertising_spend)\n",
        "y = np.array(daily_sales)\n",
        "cov_matrix = np.cov(x, y, bias=Flase)\n",
        "cov_xy = cov_matrix(0, 1)\n",
        "corr_xy = np.corrcoef(x, y)[0, 1]\n",
        "print(\"Covariance Matrix:\\n\", cov_matrix)\n",
        "print(\"Covariance between Advertising and Sales:\", cov_xy)\n",
        "print(\"Correlation coefficient:\", corr_xy)\n",
        "\n",
        "\n",
        "\n",
        "#Q9. Your team has collected customer satisfaction survey data on a scale of 1-10 and wants to understand its distribution before launching a new product.\n",
        "#Explain which summary statistics you would use.\n",
        "#Write python code to create a histogram using matplotib for the survey data:\n",
        "#survey_scores = [7, 8, 5, 9, 6, 7, 8, 9, 10, 4, 7, 6, 9, 8, 7]?\n",
        "#Ans9.\n",
        "#I would use Histogram which shows the frequency distribution of scores.\n",
        "#I would use Boxplot which highlights median, quartiles and outliers.\n",
        "#I would use Bar chart if we want to show the most common score.\n",
        "\n",
        "plt.hist(survey_scores, bins=6, color='skyblue', edgecolor='black')\n",
        "plt.title(\"Histogram of Customer Satisfaction Scores\")\n",
        "plt.xlable(\"survey score (1-10)\")\n",
        "plt.ylabel(\"Frequency\")\n",
        "plt.show()"
      ],
      "metadata": {
        "id": "e-wOYyJ3y7CA"
      },
      "execution_count": null,
      "outputs": []
    },
    {
      "cell_type": "markdown",
      "source": [],
      "metadata": {
        "id": "s15-51oFy2r-"
      }
    },
    {
      "cell_type": "code",
      "source": [],
      "metadata": {
        "id": "Vj_xvuuZyzAA"
      },
      "execution_count": null,
      "outputs": []
    }
  ]
}